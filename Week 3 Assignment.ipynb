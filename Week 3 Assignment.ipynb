{
 "cells": [
  {
   "cell_type": "code",
   "execution_count": 1,
   "metadata": {},
   "outputs": [],
   "source": [
    "import pandas as pd"
   ]
  },
  {
   "cell_type": "code",
   "execution_count": 2,
   "metadata": {},
   "outputs": [],
   "source": [
    "data = []\n",
    "#create a empty list"
   ]
  },
  {
   "cell_type": "code",
   "execution_count": 3,
   "metadata": {},
   "outputs": [
    {
     "name": "stdout",
     "output_type": "stream",
     "text": [
      "10\n",
      "20\n",
      "30\n",
      "-1\n"
     ]
    }
   ],
   "source": [
    "while True:\n",
    "    number = int(input())\n",
    "    if number == -1:\n",
    "        break\n",
    "    data.append(number)\n",
    "#assign numbers to the data list until user enter -1 to stop the loop."
   ]
  },
  {
   "cell_type": "code",
   "execution_count": 4,
   "metadata": {},
   "outputs": [
    {
     "name": "stdout",
     "output_type": "stream",
     "text": [
      "   miles\n",
      "0     10\n",
      "1     20\n",
      "2     30\n",
      "3 Days Passed. Until Now, you ran: 60 miles\n"
     ]
    }
   ],
   "source": [
    "#convert list to series object then convert to frame.\n",
    "result = pd.Series((data), name = 'miles')\n",
    "print(result.to_frame())\n",
    "print(len(data), 'Days Passed.', 'Until Now, you ran:', sum(result), 'miles')"
   ]
  },
  {
   "cell_type": "code",
   "execution_count": null,
   "metadata": {},
   "outputs": [],
   "source": []
  }
 ],
 "metadata": {
  "kernelspec": {
   "display_name": "Python 3",
   "language": "python",
   "name": "python3"
  },
  "language_info": {
   "codemirror_mode": {
    "name": "ipython",
    "version": 3
   },
   "file_extension": ".py",
   "mimetype": "text/x-python",
   "name": "python",
   "nbconvert_exporter": "python",
   "pygments_lexer": "ipython3",
   "version": "3.7.3"
  }
 },
 "nbformat": 4,
 "nbformat_minor": 2
}
